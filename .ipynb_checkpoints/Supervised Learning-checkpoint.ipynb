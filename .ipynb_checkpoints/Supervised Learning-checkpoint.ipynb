{
 "cells": [
  {
   "cell_type": "code",
   "execution_count": 30,
   "id": "766e4d2f-b986-454e-852a-65d0a450fe68",
   "metadata": {},
   "outputs": [],
   "source": [
    "import matplotlib.pyplot as plt\n",
    "import numpy as np\n",
    "import pandas as pd\n",
    "# Make sure scikit-learn is on version 1.2.2\n",
    "# due to this error: https://github.com/scikit-learn/scikit-learn/issues/26768\n",
    "# Models\n",
    "from sklearn.tree import DecisionTreeClassifier\n",
    "from sklearn.neural_network import MLPClassifier\n",
    "from sklearn.neighbors import KNeighborsClassifier\n",
    "from sklearn.ensemble import AdaBoostClassifier\n",
    "from sklearn.svm import SVC\n",
    "from sklearn.preprocessing import LabelEncoder\n",
    "from sklearn.model_selection import train_test_split\n",
    "from sklearn.model_selection import GridSearchCV\n",
    "from sklearn.model_selection import KFold\n",
    "from sklearn import metrics\n",
    "from sklearn.utils import shuffle\n",
    "np.random.seed(8)\n",
    "encoder = LabelEncoder()"
   ]
  },
  {
   "cell_type": "code",
   "execution_count": 3,
   "id": "7996e7a9",
   "metadata": {},
   "outputs": [],
   "source": [
    "# Functions adapted from https://www.kaggle.com/code/gargmanish/basic-machine-learning-with-cancer/notebook\n",
    "    # model: the learning model\n",
    "    # train_data: data used to train model\n",
    "    # test_data: data used to test model\n",
    "def classification_model(model, train_x, train_y, test_x, test_y):\n",
    "    model.fit(train_x, train_y)\n",
    "    predictions = model.predict(train_x)\n",
    "    accuracy = metrics.accuracy_score(predictions, train_y)\n",
    "    print(\"Accuracy on training data: %s\" % \"{0:.3%}\".format(accuracy))\n",
    "    kf = KFold(n_splits=5, shuffle=True)\n",
    "    kf.get_n_splits(train_x)\n",
    "    error = []\n",
    "    for i, (train, test) in enumerate(kf.split(train_x)):\n",
    "        fold_x = train_x.iloc[train, :]\n",
    "        fold_y = train_y[train]\n",
    "        model.fit(fold_x, fold_y)\n",
    "        \n",
    "        fold_test_x = train_x.iloc[test, :]\n",
    "        fold_test_y = train_y[test]\n",
    "        error.append(model.score(fold_test_x, fold_test_y))\n",
    "        print(f'Fold: {i}')\n",
    "        print(\" Cross-Validation Score : %s\" % \"{0:.3%}\".format(np.mean(error)))\n",
    "    \n",
    "    test_score = model.score(test_x, test_y)\n",
    "    print(\"Test Set Score: %s\" % \"{0:.3%}\".format(test_score))\n",
    "        \n",
    "def classification_model_gridsearchCV(model, param_grid, data_X, data_Y, test_x, test_y):\n",
    "    clf = GridSearchCV(model, param_grid, cv=10, scoring='accuracy')\n",
    "    clf.fit(data_X, data_Y)\n",
    "    print(\"The best parameters found:\")\n",
    "    print(clf.best_params_)\n",
    "    print(\"The best estimator:\")\n",
    "    print(clf.best_estimator_)\n",
    "    print(\"The best score on the training data is: {0:.3%}\".format(clf.best_score_))\n",
    "    best_model = clf.best_estimator_\n",
    "    print(\"Test set score with the best model: %s\" % \"{0:.3%}\".format(best_model.score(test_X, test_Y)))"
   ]
  },
  {
   "cell_type": "markdown",
   "id": "6400d7ab",
   "metadata": {},
   "source": [
    "# Dataset 1: Wisconsin Breast Cancer Diagnostic Dataset\n",
    "- Source: https://www.kaggle.com/datasets/uciml/breast-cancer-wisconsin-data?resource=download"
   ]
  },
  {
   "cell_type": "code",
   "execution_count": 17,
   "id": "1ceb928c",
   "metadata": {},
   "outputs": [],
   "source": [
    "# Reading data and preprocessing\n",
    "data = pd.read_csv('data/breast_cancer_data.csv')\n",
    "\n",
    "# 'id' column doesn't provide useful information\n",
    "# 'Unnamed: 32' column contains NaN values\n",
    "data.drop(columns=['id', 'Unnamed: 32'], inplace=True)\n",
    "\n",
    "# Split the data\n",
    "train, test = train_test_split(data, test_size=0.3)\n",
    "train_X = train.drop(columns='diagnosis')\n",
    "train_Y = encoder.fit_transform(train['diagnosis'])\n",
    "test_X = test.drop(columns='diagnosis')\n",
    "test_Y = encoder.fit_transform(test['diagnosis'])\n",
    "X = data.drop(columns='diagnosis')\n",
    "Y = data['diagnosis']\n",
    "# Encode Benign -> 0, Malignant -> 1\n",
    "encoded_Y = encoder.fit_transform(Y).reshape(-1, 1)"
   ]
  },
  {
   "cell_type": "markdown",
   "id": "56d56515",
   "metadata": {},
   "source": [
    "### Dataset 1: Decision Tree Classifier"
   ]
  },
  {
   "cell_type": "code",
   "execution_count": 18,
   "id": "6e516f47",
   "metadata": {
    "scrolled": false
   },
   "outputs": [
    {
     "name": "stdout",
     "output_type": "stream",
     "text": [
      "Accuracy on training data: 100.000%\n",
      "Fold: 0\n",
      " Cross-Validation Score : 96.250%\n",
      "Fold: 1\n",
      " Cross-Validation Score : 95.625%\n",
      "Fold: 2\n",
      " Cross-Validation Score : 95.000%\n",
      "Fold: 3\n",
      " Cross-Validation Score : 94.035%\n",
      "Fold: 4\n",
      " Cross-Validation Score : 92.443%\n",
      "Test Set Score: 92.982%\n"
     ]
    }
   ],
   "source": [
    "model = DecisionTreeClassifier()\n",
    "classification_model(model, train_X, train_Y, test_X, test_Y)"
   ]
  },
  {
   "cell_type": "code",
   "execution_count": 19,
   "id": "6a2bf1ef",
   "metadata": {},
   "outputs": [
    {
     "name": "stdout",
     "output_type": "stream",
     "text": [
      "The best parameters found:\n",
      "{'criterion': 'entropy', 'max_features': 'sqrt', 'min_samples_leaf': 8, 'min_samples_split': 2}\n",
      "The best estimator:\n",
      "DecisionTreeClassifier(criterion='entropy', max_features='sqrt',\n",
      "                       min_samples_leaf=8)\n",
      "The best score on the training data is: 95.724%\n",
      "Test set score with the best model: 90.643%\n"
     ]
    }
   ],
   "source": [
    "param_grid = {'max_features': ['sqrt', 'log2'],\n",
    "              'min_samples_split': [2,3,4,5,6,7,8,9,10], \n",
    "              'min_samples_leaf':[2,3,4,5,6,7,8,9,10],\n",
    "              'criterion': ['gini', 'entropy']}\n",
    "classification_model_gridsearchCV(model, param_grid, train_X, train_Y, test_X, test_Y)"
   ]
  },
  {
   "cell_type": "markdown",
   "id": "7cf77c76",
   "metadata": {},
   "source": [
    "### Dataset 1: Neural Network"
   ]
  },
  {
   "cell_type": "code",
   "execution_count": 21,
   "id": "56cb0293",
   "metadata": {},
   "outputs": [
    {
     "name": "stdout",
     "output_type": "stream",
     "text": [
      "Accuracy on training data: 95.477%\n",
      "Fold: 0\n",
      " Cross-Validation Score : 91.250%\n",
      "Fold: 1\n",
      " Cross-Validation Score : 93.750%\n",
      "Fold: 2\n",
      " Cross-Validation Score : 94.583%\n",
      "Fold: 3\n",
      " Cross-Validation Score : 93.406%\n",
      "Fold: 4\n",
      " Cross-Validation Score : 93.459%\n",
      "Test Set Score: 90.643%\n"
     ]
    }
   ],
   "source": [
    "model = MLPClassifier(max_iter=500)\n",
    "classification_model(model, train_X, train_Y, test_X, test_Y)"
   ]
  },
  {
   "cell_type": "code",
   "execution_count": 23,
   "id": "385a402a",
   "metadata": {},
   "outputs": [
    {
     "name": "stderr",
     "output_type": "stream",
     "text": [
      "/Users/danielbach/anaconda3/lib/python3.11/site-packages/sklearn/neural_network/_multilayer_perceptron.py:691: ConvergenceWarning: Stochastic Optimizer: Maximum iterations (500) reached and the optimization hasn't converged yet.\n",
      "  warnings.warn(\n",
      "/Users/danielbach/anaconda3/lib/python3.11/site-packages/sklearn/neural_network/_multilayer_perceptron.py:691: ConvergenceWarning: Stochastic Optimizer: Maximum iterations (500) reached and the optimization hasn't converged yet.\n",
      "  warnings.warn(\n",
      "/Users/danielbach/anaconda3/lib/python3.11/site-packages/sklearn/neural_network/_multilayer_perceptron.py:691: ConvergenceWarning: Stochastic Optimizer: Maximum iterations (500) reached and the optimization hasn't converged yet.\n",
      "  warnings.warn(\n",
      "/Users/danielbach/anaconda3/lib/python3.11/site-packages/sklearn/neural_network/_multilayer_perceptron.py:691: ConvergenceWarning: Stochastic Optimizer: Maximum iterations (500) reached and the optimization hasn't converged yet.\n",
      "  warnings.warn(\n"
     ]
    },
    {
     "name": "stdout",
     "output_type": "stream",
     "text": [
      "The best parameters found:\n",
      "{'alpha': 0.001, 'hidden_layer_sizes': (50,), 'learning_rate': 'constant'}\n",
      "The best estimator:\n",
      "MLPClassifier(alpha=0.001, hidden_layer_sizes=(50,), max_iter=500)\n",
      "The best score on the training data is: 95.224%\n",
      "Test set score with the best model: 92.398%\n"
     ]
    }
   ],
   "source": [
    "param_grid = {\n",
    "    'hidden_layer_sizes': [(50,), (100,), (50, 50), (100, 50)],\n",
    "    'alpha': [0.0001, 0.001, 0.01],\n",
    "    'learning_rate': ['constant', 'invscaling', 'adaptive'],\n",
    "}\n",
    "best_model = classification_model_gridsearchCV(model, param_grid, train_X, np.ravel(train_Y), test_X, np.ravel(test_Y))"
   ]
  },
  {
   "cell_type": "markdown",
   "id": "4b575d91",
   "metadata": {},
   "source": [
    "### Dataset 1: k-nearest neighbors"
   ]
  },
  {
   "cell_type": "code",
   "execution_count": 22,
   "id": "57c6e182",
   "metadata": {},
   "outputs": [
    {
     "name": "stdout",
     "output_type": "stream",
     "text": [
      "Accuracy on training data: 95.226%\n",
      "Fold: 0\n",
      " Cross-Validation Score : 96.250%\n",
      "Fold: 1\n",
      " Cross-Validation Score : 95.625%\n",
      "Fold: 2\n",
      " Cross-Validation Score : 95.417%\n",
      "Fold: 3\n",
      " Cross-Validation Score : 94.980%\n",
      "Fold: 4\n",
      " Cross-Validation Score : 93.959%\n",
      "Test Set Score: 90.643%\n"
     ]
    }
   ],
   "source": [
    "model = KNeighborsClassifier()\n",
    "classification_model(model, train_X, train_Y, test_X, test_Y)"
   ]
  },
  {
   "cell_type": "code",
   "execution_count": 26,
   "id": "b2727cd6",
   "metadata": {
    "scrolled": true
   },
   "outputs": [
    {
     "name": "stdout",
     "output_type": "stream",
     "text": [
      "The best parameters found:\n",
      "{'n_neighbors': 6, 'p': 1, 'weights': 'distance'}\n",
      "The best estimator:\n",
      "KNeighborsClassifier(n_neighbors=6, p=1, weights='distance')\n",
      "The best score on the training data is: 95.474%\n",
      "Test set score with the best model: 91.813%\n"
     ]
    }
   ],
   "source": [
    "param_grid = {\n",
    "    'n_neighbors': [1,2,3,4,5,6,7,8,9,10],\n",
    "    'weights': ['uniform', 'distance'],\n",
    "    'p': [1, 2],\n",
    "}\n",
    "classification_model_gridsearchCV(model, param_grid, train_X, train_Y, test_X, test_Y)"
   ]
  },
  {
   "cell_type": "markdown",
   "id": "fc54c4ec",
   "metadata": {},
   "source": [
    "### Dataset 1: Boosting\n"
   ]
  },
  {
   "cell_type": "code",
   "execution_count": 28,
   "id": "111262b3",
   "metadata": {
    "scrolled": true
   },
   "outputs": [
    {
     "name": "stdout",
     "output_type": "stream",
     "text": [
      "Accuracy on training data: 100.000%\n",
      "Fold: 0\n",
      " Cross-Validation Score : 96.250%\n",
      "Fold: 1\n",
      " Cross-Validation Score : 95.625%\n",
      "Fold: 2\n",
      " Cross-Validation Score : 95.417%\n",
      "Fold: 3\n",
      " Cross-Validation Score : 95.613%\n",
      "Fold: 4\n",
      " Cross-Validation Score : 95.731%\n",
      "Test Set Score: 95.322%\n"
     ]
    }
   ],
   "source": [
    "model = AdaBoostClassifier()\n",
    "classification_model(model, train_X, train_Y, test_X, test_Y)"
   ]
  },
  {
   "cell_type": "code",
   "execution_count": 29,
   "id": "b798f876",
   "metadata": {},
   "outputs": [
    {
     "name": "stdout",
     "output_type": "stream",
     "text": [
      "The best parameters found:\n",
      "{'learning_rate': 1.0, 'n_estimators': 500}\n",
      "The best estimator:\n",
      "AdaBoostClassifier(n_estimators=500)\n",
      "The best score on the training data is: 96.487%\n",
      "Test set score with the best model: 98.830%\n"
     ]
    }
   ],
   "source": [
    "param_grid = {\n",
    "    'n_estimators': [10, 50, 250, 500, 1000],\n",
    "    'learning_rate': [0.01, 0.1, 0.3, 0.5, 0.7, 1.0],\n",
    "}\n",
    "classification_model_gridsearchCV(model, param_grid, train_X, train_Y, test_X, test_Y)"
   ]
  },
  {
   "cell_type": "markdown",
   "id": "79c1c7d5",
   "metadata": {},
   "source": [
    "### Dataset 1: SVM"
   ]
  },
  {
   "cell_type": "code",
   "execution_count": 32,
   "id": "101e68c7",
   "metadata": {},
   "outputs": [
    {
     "name": "stdout",
     "output_type": "stream",
     "text": [
      "Accuracy on training data: 92.965%\n",
      "Fold: 0\n",
      " Cross-Validation Score : 96.250%\n",
      "Fold: 1\n",
      " Cross-Validation Score : 94.375%\n",
      "Fold: 2\n",
      " Cross-Validation Score : 92.083%\n",
      "Fold: 3\n",
      " Cross-Validation Score : 90.581%\n",
      "Fold: 4\n",
      " Cross-Validation Score : 91.453%\n",
      "Test Set Score: 90.643%\n"
     ]
    }
   ],
   "source": [
    "model = SVC()\n",
    "classification_model(model, train_X, train_Y, test_X, test_Y)"
   ]
  },
  {
   "cell_type": "code",
   "execution_count": 45,
   "id": "c24b67c3",
   "metadata": {},
   "outputs": [
    {
     "name": "stdout",
     "output_type": "stream",
     "text": [
      "The best parameters found:\n",
      "{'C': 1000.0, 'gamma': 'scale'}\n",
      "The best estimator:\n",
      "SVC(C=1000.0)\n",
      "The best score on the training data is: 94.955%\n",
      "Test set score with the best model: 93.567%\n"
     ]
    }
   ],
   "source": [
    "param_grid = {\n",
    "    'C': [0.001, 0.1, 1.0, 10.0, 100.0, 1000.0],\n",
    "    'gamma': ['scale', 'auto'],\n",
    "}\n",
    "classification_model_gridsearchCV(model, param_grid, train_X, train_Y, test_X, test_Y)"
   ]
  },
  {
   "cell_type": "markdown",
   "id": "3b1450f3",
   "metadata": {},
   "source": [
    "# Dataset 2: Banknote Authentication"
   ]
  },
  {
   "cell_type": "code",
   "execution_count": 58,
   "id": "a8376553",
   "metadata": {},
   "outputs": [],
   "source": [
    "data = pd.read_csv('data/banknote_data.csv')\n",
    "data = data.sample(frac=1)\n",
    "train, test = train_test_split(data, test_size=0.3)\n",
    "train_X = train.drop(columns='class')\n",
    "train_Y = train['class']\n",
    "test_X = test.drop(columns='class')\n",
    "test_Y = test['class']"
   ]
  },
  {
   "cell_type": "code",
   "execution_count": null,
   "id": "10e63e10",
   "metadata": {},
   "outputs": [],
   "source": []
  }
 ],
 "metadata": {
  "kernelspec": {
   "display_name": "Python 3 (ipykernel)",
   "language": "python",
   "name": "python3"
  },
  "language_info": {
   "codemirror_mode": {
    "name": "ipython",
    "version": 3
   },
   "file_extension": ".py",
   "mimetype": "text/x-python",
   "name": "python",
   "nbconvert_exporter": "python",
   "pygments_lexer": "ipython3",
   "version": "3.11.4"
  }
 },
 "nbformat": 4,
 "nbformat_minor": 5
}
