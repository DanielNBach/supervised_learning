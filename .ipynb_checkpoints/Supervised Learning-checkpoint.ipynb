{
 "cells": [
  {
   "cell_type": "code",
   "execution_count": 164,
   "id": "766e4d2f-b986-454e-852a-65d0a450fe68",
   "metadata": {},
   "outputs": [],
   "source": [
    "import matplotlib.pyplot as plt\n",
    "import numpy as np\n",
    "import pandas as pd\n",
    "from sklearn.tree import DecisionTreeClassifier\n",
    "from sklearn.preprocessing import LabelEncoder\n",
    "from sklearn.model_selection import train_test_split\n",
    "from sklearn.model_selection import GridSearchCV\n",
    "from sklearn.model_selection import KFold\n",
    "from sklearn import metrics\n",
    "from sklearn.utils import shuffle\n",
    "np.random.seed(8)\n",
    "encoder = LabelEncoder()"
   ]
  },
  {
   "cell_type": "code",
   "execution_count": 207,
   "id": "5055a152",
   "metadata": {},
   "outputs": [],
   "source": [
    "# Functions adapted from https://www.kaggle.com/code/gargmanish/basic-machine-learning-with-cancer/notebook\n",
    "    # model: the learning model\n",
    "    # train_data: data used to train model\n",
    "    # test_data: data used to test model\n",
    "def classification_model(model, x, y):\n",
    "    x, y = shuffle(x, y)\n",
    "    model.fit(x, y)\n",
    "    predictions = model.predict(x)\n",
    "    accuracy = metrics.accuracy_score(predictions, y)\n",
    "    print(\"Accuracy : %s\" % \"{0:.3%}\".format(accuracy))\n",
    "    kf = KFold(n_splits=5)\n",
    "    kf.get_n_splits(x)\n",
    "    error = []\n",
    "    for i, (train, test) in enumerate(kf.split(x)):\n",
    "        train_x = x.iloc[train, :]\n",
    "        train_y = y[train]\n",
    "        model.fit(train_x, train_y)\n",
    "        \n",
    "        test_x = x.iloc[test, :]\n",
    "        test_y = y[test]\n",
    "        error.append(model.score(test_x, test_y))\n",
    "        print(f'Fold: {i}')\n",
    "        print(\" Cross-Validation Score : %s\" % \"{0:.3%}\".format(np.mean(error)))\n",
    "        \n",
    "def classification_model_gridsearchCV(model, param_grid, data_X, data_Y):\n",
    "    clf = GridSearchCV(model, param_grid, cv=10, scoring='accuracy')\n",
    "    clf.fit(data_X, data_Y)\n",
    "    print(\"The best parameters found:\")\n",
    "    print(clf.best_params_)\n",
    "    print(\"The best estimator:\")\n",
    "    print(clf.best_estimator_)\n",
    "    print(\"The best score on the training data is:\")\n",
    "    print('{0:.3%}'.format(clf.best_score_))\n",
    "    #print(\"Test Set Score: %s\" % \"{0:.3%}\".format(dt_classifier_score))\n",
    "    return clf.best_estimator_"
   ]
  },
  {
   "cell_type": "markdown",
   "id": "6400d7ab",
   "metadata": {},
   "source": [
    "# Dataset 1: Wisconsin Breast Cancer Diagnostic Dataset\n",
    "- Source: https://www.kaggle.com/datasets/uciml/breast-cancer-wisconsin-data?resource=download"
   ]
  },
  {
   "cell_type": "code",
   "execution_count": 165,
   "id": "1ceb928c",
   "metadata": {},
   "outputs": [],
   "source": [
    "# Reading data and preprocessing\n",
    "data = pd.read_csv('data/breast_cancer_data.csv')\n",
    "\n",
    "# 'id' column doesn't provide useful information\n",
    "# 'Unnamed: 32' column contains NaN values\n",
    "data.drop(columns=['id', 'Unnamed: 32'], inplace=True)\n",
    "\n",
    "# Split the data\n",
    "train, test = train_test_split(data, test_size=0.3)\n",
    "train_X = train.drop(columns='diagnosis')\n",
    "train_Y = encoder.fit_transform(train['diagnosis']).reshape(-1, 1)\n",
    "test_X = test.drop(columns='diagnosis')\n",
    "test_Y = encoder.fit_transform(test['diagnosis']).reshape(-1, 1)\n",
    "X = data.drop(columns='diagnosis')\n",
    "Y = data['diagnosis']\n",
    "# Encode Benign -> 0, Malignant -> 1\n",
    "encoded_Y = encoder.fit_transform(Y).reshape(-1, 1)"
   ]
  },
  {
   "cell_type": "markdown",
   "id": "baa52791",
   "metadata": {},
   "source": [
    "### Dataset 1: Decision Tree Classifier"
   ]
  },
  {
   "cell_type": "code",
   "execution_count": 191,
   "id": "8e4c0e80",
   "metadata": {
    "scrolled": false
   },
   "outputs": [
    {
     "name": "stdout",
     "output_type": "stream",
     "text": [
      "Accuracy : 100.000%\n",
      "Fold: 0\n",
      " Cross-Validation Score : 91.250%\n",
      "Fold: 1\n",
      " Cross-Validation Score : 89.375%\n",
      "Fold: 2\n",
      " Cross-Validation Score : 89.583%\n",
      "Fold: 3\n",
      " Cross-Validation Score : 90.605%\n",
      "Fold: 4\n",
      " Cross-Validation Score : 90.712%\n",
      "Test Set Score: 91.813%\n"
     ]
    }
   ],
   "source": [
    "model = DecisionTreeClassifier()\n",
    "classification_model(model, train_X, train_Y)\n",
    "dt_classifier_score = model.score(test_X, test_Y)\n",
    "print(\"Test Set Score: %s\" % \"{0:.3%}\".format(dt_classifier_score))"
   ]
  },
  {
   "cell_type": "code",
   "execution_count": 209,
   "id": "40eec069",
   "metadata": {},
   "outputs": [
    {
     "name": "stdout",
     "output_type": "stream",
     "text": [
      "The best parameters found:\n",
      "{'criterion': 'entropy', 'max_features': 'log2', 'min_samples_leaf': 6, 'min_samples_split': 9}\n",
      "The best estimator:\n",
      "DecisionTreeClassifier(criterion='entropy', max_features='log2',\n",
      "                       min_samples_leaf=6, min_samples_split=9)\n",
      "The best score on the training data is:\n",
      "94.468%\n",
      "Test Set Score: 95.906%\n"
     ]
    }
   ],
   "source": [
    "param_grid = {'max_features': ['sqrt', 'log2'],\n",
    "              'min_samples_split': [2,3,4,5,6,7,8,9,10], \n",
    "              'min_samples_leaf':[2,3,4,5,6,7,8,9,10],\n",
    "              'criterion': ['gini', 'entropy']}\n",
    "best_model = classification_model_gridsearchCV(model, param_grid, train_X, train_Y)\n",
    "print(\"Test Set Score: %s\" % \"{0:.3%}\".format(best_model.score(test_X, test_Y)))"
   ]
  }
 ],
 "metadata": {
  "kernelspec": {
   "display_name": "Python 3 (ipykernel)",
   "language": "python",
   "name": "python3"
  },
  "language_info": {
   "codemirror_mode": {
    "name": "ipython",
    "version": 3
   },
   "file_extension": ".py",
   "mimetype": "text/x-python",
   "name": "python",
   "nbconvert_exporter": "python",
   "pygments_lexer": "ipython3",
   "version": "3.11.4"
  }
 },
 "nbformat": 4,
 "nbformat_minor": 5
}
