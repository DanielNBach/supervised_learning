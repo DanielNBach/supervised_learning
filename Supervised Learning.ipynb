{
 "cells": [
  {
   "cell_type": "code",
   "execution_count": 30,
   "id": "766e4d2f-b986-454e-852a-65d0a450fe68",
   "metadata": {},
   "outputs": [],
   "source": [
    "import matplotlib.pyplot as plt\n",
    "import numpy as np\n",
    "import pandas as pd\n",
    "# Make sure scikit-learn is on version 1.2.2\n",
    "# due to this error: https://github.com/scikit-learn/scikit-learn/issues/26768\n",
    "# Models\n",
    "from sklearn.tree import DecisionTreeClassifier\n",
    "from sklearn.neural_network import MLPClassifier\n",
    "from sklearn.neighbors import KNeighborsClassifier\n",
    "from sklearn.ensemble import AdaBoostClassifier\n",
    "from sklearn.svm import SVC\n",
    "from sklearn.preprocessing import LabelEncoder\n",
    "from sklearn.model_selection import train_test_split\n",
    "from sklearn.model_selection import GridSearchCV\n",
    "from sklearn.model_selection import KFold\n",
    "from sklearn import metrics\n",
    "from sklearn.utils import shuffle\n",
    "np.random.seed(8)\n",
    "encoder = LabelEncoder()"
   ]
  },
  {
   "cell_type": "code",
   "execution_count": 72,
   "id": "f0a3d7b9",
   "metadata": {},
   "outputs": [],
   "source": [
    "# Functions adapted from https://www.kaggle.com/code/gargmanish/basic-machine-learning-with-cancer/notebook\n",
    "    # model: the learning model\n",
    "    # train_data: data used to train model\n",
    "    # test_data: data used to test model\n",
    "def classification_model(model, train_x, train_y, test_x, test_y):\n",
    "    model.fit(train_x, train_y)\n",
    "    predictions = model.predict(train_x)\n",
    "    accuracy = metrics.accuracy_score(predictions, train_y)\n",
    "    print(\"Accuracy on training data: %s\" % \"{0:.3%}\".format(accuracy))\n",
    "    kf = KFold(n_splits=5, shuffle=True)\n",
    "    kf.get_n_splits(train_x)\n",
    "    error = []\n",
    "    for i, (train, test) in enumerate(kf.split(train_x)):\n",
    "        fold_x = train_x.iloc[train, :]\n",
    "        fold_y = train_y.iloc[train]\n",
    "        model.fit(fold_x, fold_y)\n",
    "        \n",
    "        fold_test_x = train_x.iloc[test, :]\n",
    "        fold_test_y = train_y.iloc[test]\n",
    "        error.append(model.score(fold_test_x, fold_test_y))\n",
    "        print(f'Fold: {i}')\n",
    "        print(\" Cross-Validation Score : %s\" % \"{0:.3%}\".format(np.mean(error)))\n",
    "    \n",
    "    test_score = model.score(test_x, test_y)\n",
    "    print(\"Test Set Score: %s\" % \"{0:.3%}\".format(test_score))\n",
    "        \n",
    "def classification_model_gridsearchCV(model, param_grid, data_X, data_Y, test_x, test_y):\n",
    "    clf = GridSearchCV(model, param_grid, cv=10, scoring='accuracy')\n",
    "    clf.fit(data_X, data_Y)\n",
    "    print(\"The best parameters found:\")\n",
    "    print(clf.best_params_)\n",
    "    print(\"The best estimator:\")\n",
    "    print(clf.best_estimator_)\n",
    "    print(\"The best score on the training data is: {0:.3%}\".format(clf.best_score_))\n",
    "    best_model = clf.best_estimator_\n",
    "    print(\"Test set score with the best model: %s\" % \"{0:.3%}\".format(best_model.score(test_X, test_Y)))"
   ]
  },
  {
   "cell_type": "markdown",
   "id": "6400d7ab",
   "metadata": {},
   "source": [
    "# Dataset 1: Wisconsin Breast Cancer Diagnostic Dataset\n",
    "- Source: https://www.kaggle.com/datasets/uciml/breast-cancer-wisconsin-data?resource=download"
   ]
  },
  {
   "cell_type": "code",
   "execution_count": 66,
   "id": "1ceb928c",
   "metadata": {},
   "outputs": [],
   "source": [
    "# Reading data and preprocessing\n",
    "data = pd.read_csv('data/breast_cancer_data.csv')\n",
    "\n",
    "# 'id' column doesn't provide useful information\n",
    "# 'Unnamed: 32' column contains NaN values\n",
    "data.drop(columns=['id', 'Unnamed: 32'], inplace=True)\n",
    "\n",
    "# Split the data\n",
    "train, test = train_test_split(data, test_size=0.3)\n",
    "train_X = train.drop(columns='diagnosis')\n",
    "train_Y = encoder.fit_transform(train['diagnosis'])\n",
    "test_X = test.drop(columns='diagnosis')\n",
    "test_Y = encoder.fit_transform(test['diagnosis'])\n",
    "X = data.drop(columns='diagnosis')\n",
    "Y = data['diagnosis']\n",
    "# Encode Benign -> 0, Malignant -> 1\n",
    "encoded_Y = encoder.fit_transform(Y).reshape(-1, 1)"
   ]
  },
  {
   "cell_type": "markdown",
   "id": "ea265ae0",
   "metadata": {},
   "source": [
    "### Dataset 1: Decision Tree Classifier"
   ]
  },
  {
   "cell_type": "code",
   "execution_count": 18,
   "id": "fc1c319e",
   "metadata": {
    "scrolled": false
   },
   "outputs": [
    {
     "name": "stdout",
     "output_type": "stream",
     "text": [
      "Accuracy on training data: 100.000%\n",
      "Fold: 0\n",
      " Cross-Validation Score : 96.250%\n",
      "Fold: 1\n",
      " Cross-Validation Score : 95.625%\n",
      "Fold: 2\n",
      " Cross-Validation Score : 95.000%\n",
      "Fold: 3\n",
      " Cross-Validation Score : 94.035%\n",
      "Fold: 4\n",
      " Cross-Validation Score : 92.443%\n",
      "Test Set Score: 92.982%\n"
     ]
    }
   ],
   "source": [
    "model = DecisionTreeClassifier()\n",
    "classification_model(model, train_X, train_Y, test_X, test_Y)"
   ]
  },
  {
   "cell_type": "code",
   "execution_count": 19,
   "id": "5d939a0b",
   "metadata": {},
   "outputs": [
    {
     "name": "stdout",
     "output_type": "stream",
     "text": [
      "The best parameters found:\n",
      "{'criterion': 'entropy', 'max_features': 'sqrt', 'min_samples_leaf': 8, 'min_samples_split': 2}\n",
      "The best estimator:\n",
      "DecisionTreeClassifier(criterion='entropy', max_features='sqrt',\n",
      "                       min_samples_leaf=8)\n",
      "The best score on the training data is: 95.724%\n",
      "Test set score with the best model: 90.643%\n"
     ]
    }
   ],
   "source": [
    "param_grid = {'max_features': ['sqrt', 'log2'],\n",
    "              'min_samples_split': [2,3,4,5,6,7,8,9,10], \n",
    "              'min_samples_leaf':[2,3,4,5,6,7,8,9,10],\n",
    "              'criterion': ['gini', 'entropy']}\n",
    "classification_model_gridsearchCV(model, param_grid, train_X, train_Y, test_X, test_Y)"
   ]
  },
  {
   "cell_type": "markdown",
   "id": "14b03e98",
   "metadata": {},
   "source": [
    "### Dataset 1: Neural Network"
   ]
  },
  {
   "cell_type": "code",
   "execution_count": 21,
   "id": "2125f8ad",
   "metadata": {},
   "outputs": [
    {
     "name": "stdout",
     "output_type": "stream",
     "text": [
      "Accuracy on training data: 95.477%\n",
      "Fold: 0\n",
      " Cross-Validation Score : 91.250%\n",
      "Fold: 1\n",
      " Cross-Validation Score : 93.750%\n",
      "Fold: 2\n",
      " Cross-Validation Score : 94.583%\n",
      "Fold: 3\n",
      " Cross-Validation Score : 93.406%\n",
      "Fold: 4\n",
      " Cross-Validation Score : 93.459%\n",
      "Test Set Score: 90.643%\n"
     ]
    }
   ],
   "source": [
    "model = MLPClassifier(max_iter=500)\n",
    "classification_model(model, train_X, train_Y, test_X, test_Y)"
   ]
  },
  {
   "cell_type": "code",
   "execution_count": 23,
   "id": "666a7d81",
   "metadata": {},
   "outputs": [
    {
     "name": "stderr",
     "output_type": "stream",
     "text": [
      "/Users/danielbach/anaconda3/lib/python3.11/site-packages/sklearn/neural_network/_multilayer_perceptron.py:691: ConvergenceWarning: Stochastic Optimizer: Maximum iterations (500) reached and the optimization hasn't converged yet.\n",
      "  warnings.warn(\n",
      "/Users/danielbach/anaconda3/lib/python3.11/site-packages/sklearn/neural_network/_multilayer_perceptron.py:691: ConvergenceWarning: Stochastic Optimizer: Maximum iterations (500) reached and the optimization hasn't converged yet.\n",
      "  warnings.warn(\n",
      "/Users/danielbach/anaconda3/lib/python3.11/site-packages/sklearn/neural_network/_multilayer_perceptron.py:691: ConvergenceWarning: Stochastic Optimizer: Maximum iterations (500) reached and the optimization hasn't converged yet.\n",
      "  warnings.warn(\n",
      "/Users/danielbach/anaconda3/lib/python3.11/site-packages/sklearn/neural_network/_multilayer_perceptron.py:691: ConvergenceWarning: Stochastic Optimizer: Maximum iterations (500) reached and the optimization hasn't converged yet.\n",
      "  warnings.warn(\n"
     ]
    },
    {
     "name": "stdout",
     "output_type": "stream",
     "text": [
      "The best parameters found:\n",
      "{'alpha': 0.001, 'hidden_layer_sizes': (50,), 'learning_rate': 'constant'}\n",
      "The best estimator:\n",
      "MLPClassifier(alpha=0.001, hidden_layer_sizes=(50,), max_iter=500)\n",
      "The best score on the training data is: 95.224%\n",
      "Test set score with the best model: 92.398%\n"
     ]
    }
   ],
   "source": [
    "param_grid = {\n",
    "    'hidden_layer_sizes': [(50,), (100,), (50, 50), (100, 50)],\n",
    "    'alpha': [0.0001, 0.001, 0.01],\n",
    "    'learning_rate': ['constant', 'invscaling', 'adaptive'],\n",
    "}\n",
    "best_model = classification_model_gridsearchCV(model, param_grid, train_X, np.ravel(train_Y), test_X, np.ravel(test_Y))"
   ]
  },
  {
   "cell_type": "markdown",
   "id": "a2eb7c24",
   "metadata": {},
   "source": [
    "### Dataset 1: k-nearest neighbors"
   ]
  },
  {
   "cell_type": "code",
   "execution_count": 22,
   "id": "4e54df25",
   "metadata": {},
   "outputs": [
    {
     "name": "stdout",
     "output_type": "stream",
     "text": [
      "Accuracy on training data: 95.226%\n",
      "Fold: 0\n",
      " Cross-Validation Score : 96.250%\n",
      "Fold: 1\n",
      " Cross-Validation Score : 95.625%\n",
      "Fold: 2\n",
      " Cross-Validation Score : 95.417%\n",
      "Fold: 3\n",
      " Cross-Validation Score : 94.980%\n",
      "Fold: 4\n",
      " Cross-Validation Score : 93.959%\n",
      "Test Set Score: 90.643%\n"
     ]
    }
   ],
   "source": [
    "model = KNeighborsClassifier()\n",
    "classification_model(model, train_X, train_Y, test_X, test_Y)"
   ]
  },
  {
   "cell_type": "code",
   "execution_count": 26,
   "id": "0bc1cf92",
   "metadata": {
    "scrolled": true
   },
   "outputs": [
    {
     "name": "stdout",
     "output_type": "stream",
     "text": [
      "The best parameters found:\n",
      "{'n_neighbors': 6, 'p': 1, 'weights': 'distance'}\n",
      "The best estimator:\n",
      "KNeighborsClassifier(n_neighbors=6, p=1, weights='distance')\n",
      "The best score on the training data is: 95.474%\n",
      "Test set score with the best model: 91.813%\n"
     ]
    }
   ],
   "source": [
    "param_grid = {\n",
    "    'n_neighbors': [1,2,3,4,5,6,7,8,9,10],\n",
    "    'weights': ['uniform', 'distance'],\n",
    "    'p': [1, 2],\n",
    "}\n",
    "classification_model_gridsearchCV(model, param_grid, train_X, train_Y, test_X, test_Y)"
   ]
  },
  {
   "cell_type": "markdown",
   "id": "43365437",
   "metadata": {},
   "source": [
    "### Dataset 1: Boosting\n"
   ]
  },
  {
   "cell_type": "code",
   "execution_count": 28,
   "id": "98fbada8",
   "metadata": {
    "scrolled": true
   },
   "outputs": [
    {
     "name": "stdout",
     "output_type": "stream",
     "text": [
      "Accuracy on training data: 100.000%\n",
      "Fold: 0\n",
      " Cross-Validation Score : 96.250%\n",
      "Fold: 1\n",
      " Cross-Validation Score : 95.625%\n",
      "Fold: 2\n",
      " Cross-Validation Score : 95.417%\n",
      "Fold: 3\n",
      " Cross-Validation Score : 95.613%\n",
      "Fold: 4\n",
      " Cross-Validation Score : 95.731%\n",
      "Test Set Score: 95.322%\n"
     ]
    }
   ],
   "source": [
    "model = AdaBoostClassifier()\n",
    "classification_model(model, train_X, train_Y, test_X, test_Y)"
   ]
  },
  {
   "cell_type": "code",
   "execution_count": 29,
   "id": "a7f5e2ad",
   "metadata": {},
   "outputs": [
    {
     "name": "stdout",
     "output_type": "stream",
     "text": [
      "The best parameters found:\n",
      "{'learning_rate': 1.0, 'n_estimators': 500}\n",
      "The best estimator:\n",
      "AdaBoostClassifier(n_estimators=500)\n",
      "The best score on the training data is: 96.487%\n",
      "Test set score with the best model: 98.830%\n"
     ]
    }
   ],
   "source": [
    "param_grid = {\n",
    "    'n_estimators': [10, 50, 250, 500, 1000],\n",
    "    'learning_rate': [0.01, 0.1, 0.3, 0.5, 0.7, 1.0],\n",
    "}\n",
    "classification_model_gridsearchCV(model, param_grid, train_X, train_Y, test_X, test_Y)"
   ]
  },
  {
   "cell_type": "markdown",
   "id": "654e750c",
   "metadata": {},
   "source": [
    "### Dataset 1: SVM"
   ]
  },
  {
   "cell_type": "code",
   "execution_count": 32,
   "id": "2b516f79",
   "metadata": {},
   "outputs": [
    {
     "name": "stdout",
     "output_type": "stream",
     "text": [
      "Accuracy on training data: 92.965%\n",
      "Fold: 0\n",
      " Cross-Validation Score : 96.250%\n",
      "Fold: 1\n",
      " Cross-Validation Score : 94.375%\n",
      "Fold: 2\n",
      " Cross-Validation Score : 92.083%\n",
      "Fold: 3\n",
      " Cross-Validation Score : 90.581%\n",
      "Fold: 4\n",
      " Cross-Validation Score : 91.453%\n",
      "Test Set Score: 90.643%\n"
     ]
    }
   ],
   "source": [
    "model = SVC()\n",
    "classification_model(model, train_X, train_Y, test_X, test_Y)"
   ]
  },
  {
   "cell_type": "code",
   "execution_count": 45,
   "id": "269cc86c",
   "metadata": {},
   "outputs": [
    {
     "name": "stdout",
     "output_type": "stream",
     "text": [
      "The best parameters found:\n",
      "{'C': 1000.0, 'gamma': 'scale'}\n",
      "The best estimator:\n",
      "SVC(C=1000.0)\n",
      "The best score on the training data is: 94.955%\n",
      "Test set score with the best model: 93.567%\n"
     ]
    }
   ],
   "source": [
    "param_grid = {\n",
    "    'C': [0.001, 0.1, 1.0, 10.0, 100.0, 1000.0],\n",
    "    'gamma': ['scale', 'auto'],\n",
    "}\n",
    "classification_model_gridsearchCV(model, param_grid, train_X, train_Y, test_X, test_Y)"
   ]
  },
  {
   "cell_type": "markdown",
   "id": "7777967c",
   "metadata": {},
   "source": [
    "# Dataset 2: Banknote Authentication"
   ]
  },
  {
   "cell_type": "code",
   "execution_count": 68,
   "id": "c65c82a8",
   "metadata": {},
   "outputs": [
    {
     "data": {
      "text/html": [
       "<div>\n",
       "<style scoped>\n",
       "    .dataframe tbody tr th:only-of-type {\n",
       "        vertical-align: middle;\n",
       "    }\n",
       "\n",
       "    .dataframe tbody tr th {\n",
       "        vertical-align: top;\n",
       "    }\n",
       "\n",
       "    .dataframe thead th {\n",
       "        text-align: right;\n",
       "    }\n",
       "</style>\n",
       "<table border=\"1\" class=\"dataframe\">\n",
       "  <thead>\n",
       "    <tr style=\"text-align: right;\">\n",
       "      <th></th>\n",
       "      <th>variance</th>\n",
       "      <th>skewness</th>\n",
       "      <th>curtosis</th>\n",
       "      <th>entropy</th>\n",
       "    </tr>\n",
       "  </thead>\n",
       "  <tbody>\n",
       "    <tr>\n",
       "      <th>998</th>\n",
       "      <td>-3.08660</td>\n",
       "      <td>-6.6362</td>\n",
       "      <td>10.54050</td>\n",
       "      <td>-0.891820</td>\n",
       "    </tr>\n",
       "    <tr>\n",
       "      <th>133</th>\n",
       "      <td>0.43390</td>\n",
       "      <td>5.5395</td>\n",
       "      <td>2.03300</td>\n",
       "      <td>-0.404320</td>\n",
       "    </tr>\n",
       "    <tr>\n",
       "      <th>513</th>\n",
       "      <td>5.93740</td>\n",
       "      <td>6.1664</td>\n",
       "      <td>-2.59050</td>\n",
       "      <td>-0.365530</td>\n",
       "    </tr>\n",
       "    <tr>\n",
       "      <th>419</th>\n",
       "      <td>1.95720</td>\n",
       "      <td>-5.1153</td>\n",
       "      <td>8.61270</td>\n",
       "      <td>-1.429700</td>\n",
       "    </tr>\n",
       "    <tr>\n",
       "      <th>541</th>\n",
       "      <td>3.66670</td>\n",
       "      <td>4.3020</td>\n",
       "      <td>0.55923</td>\n",
       "      <td>0.337910</td>\n",
       "    </tr>\n",
       "    <tr>\n",
       "      <th>...</th>\n",
       "      <td>...</td>\n",
       "      <td>...</td>\n",
       "      <td>...</td>\n",
       "      <td>...</td>\n",
       "    </tr>\n",
       "    <tr>\n",
       "      <th>663</th>\n",
       "      <td>3.77980</td>\n",
       "      <td>-3.3109</td>\n",
       "      <td>2.64910</td>\n",
       "      <td>0.066365</td>\n",
       "    </tr>\n",
       "    <tr>\n",
       "      <th>643</th>\n",
       "      <td>0.38251</td>\n",
       "      <td>6.8121</td>\n",
       "      <td>1.81280</td>\n",
       "      <td>-0.612510</td>\n",
       "    </tr>\n",
       "    <tr>\n",
       "      <th>495</th>\n",
       "      <td>-0.12624</td>\n",
       "      <td>10.3216</td>\n",
       "      <td>-3.71210</td>\n",
       "      <td>-6.118500</td>\n",
       "    </tr>\n",
       "    <tr>\n",
       "      <th>235</th>\n",
       "      <td>2.04660</td>\n",
       "      <td>2.0300</td>\n",
       "      <td>2.17610</td>\n",
       "      <td>-0.083634</td>\n",
       "    </tr>\n",
       "    <tr>\n",
       "      <th>1046</th>\n",
       "      <td>0.88992</td>\n",
       "      <td>2.2638</td>\n",
       "      <td>-3.10460</td>\n",
       "      <td>-0.118550</td>\n",
       "    </tr>\n",
       "  </tbody>\n",
       "</table>\n",
       "<p>960 rows × 4 columns</p>\n",
       "</div>"
      ],
      "text/plain": [
       "      variance  skewness  curtosis   entropy\n",
       "998   -3.08660   -6.6362  10.54050 -0.891820\n",
       "133    0.43390    5.5395   2.03300 -0.404320\n",
       "513    5.93740    6.1664  -2.59050 -0.365530\n",
       "419    1.95720   -5.1153   8.61270 -1.429700\n",
       "541    3.66670    4.3020   0.55923  0.337910\n",
       "...        ...       ...       ...       ...\n",
       "663    3.77980   -3.3109   2.64910  0.066365\n",
       "643    0.38251    6.8121   1.81280 -0.612510\n",
       "495   -0.12624   10.3216  -3.71210 -6.118500\n",
       "235    2.04660    2.0300   2.17610 -0.083634\n",
       "1046   0.88992    2.2638  -3.10460 -0.118550\n",
       "\n",
       "[960 rows x 4 columns]"
      ]
     },
     "execution_count": 68,
     "metadata": {},
     "output_type": "execute_result"
    }
   ],
   "source": [
    "data = pd.read_csv('data/banknote_data.csv')\n",
    "train, test = train_test_split(data, test_size=0.3)\n",
    "train_X = train.drop(columns='class')\n",
    "train_Y = train['class']\n",
    "test_X = test.drop(columns='class')\n",
    "test_Y = test['class']\n",
    "train_X"
   ]
  },
  {
   "cell_type": "markdown",
   "id": "e62d2973",
   "metadata": {},
   "source": [
    "### Dataset 2: DecisionTreeClassifier"
   ]
  },
  {
   "cell_type": "code",
   "execution_count": 74,
   "id": "a3373439",
   "metadata": {},
   "outputs": [
    {
     "name": "stdout",
     "output_type": "stream",
     "text": [
      "Accuracy on training data: 100.000%\n",
      "Fold: 0\n",
      " Cross-Validation Score : 97.917%\n",
      "Fold: 1\n",
      " Cross-Validation Score : 98.177%\n",
      "Fold: 2\n",
      " Cross-Validation Score : 97.917%\n",
      "Fold: 3\n",
      " Cross-Validation Score : 97.656%\n",
      "Fold: 4\n",
      " Cross-Validation Score : 97.917%\n",
      "Test Set Score: 99.515%\n"
     ]
    }
   ],
   "source": [
    "model = DecisionTreeClassifier()\n",
    "classification_model(model, train_X, train_Y, test_X, test_Y)"
   ]
  },
  {
   "cell_type": "code",
   "execution_count": 75,
   "id": "11d15ad8",
   "metadata": {},
   "outputs": [
    {
     "name": "stdout",
     "output_type": "stream",
     "text": [
      "The best parameters found:\n",
      "{'criterion': 'gini', 'max_features': 'sqrt', 'min_samples_leaf': 3, 'min_samples_split': 3}\n",
      "The best estimator:\n",
      "DecisionTreeClassifier(max_features='sqrt', min_samples_leaf=3,\n",
      "                       min_samples_split=3)\n",
      "The best score on the training data is: 98.438%\n",
      "Test set score with the best model: 98.544%\n"
     ]
    }
   ],
   "source": [
    "param_grid = {'max_features': ['sqrt', 'log2'],\n",
    "              'min_samples_split': [2,3,4,5,6,7,8,9,10], \n",
    "              'min_samples_leaf':[2,3,4,5,6,7,8,9,10],\n",
    "              'criterion': ['gini', 'entropy']}\n",
    "classification_model_gridsearchCV(model, param_grid, train_X, train_Y, test_X, test_Y)"
   ]
  },
  {
   "cell_type": "markdown",
   "id": "d9586bd4",
   "metadata": {},
   "source": [
    "### Dataset 2: Neural Network"
   ]
  }
 ],
 "metadata": {
  "kernelspec": {
   "display_name": "Python 3 (ipykernel)",
   "language": "python",
   "name": "python3"
  },
  "language_info": {
   "codemirror_mode": {
    "name": "ipython",
    "version": 3
   },
   "file_extension": ".py",
   "mimetype": "text/x-python",
   "name": "python",
   "nbconvert_exporter": "python",
   "pygments_lexer": "ipython3",
   "version": "3.11.4"
  }
 },
 "nbformat": 4,
 "nbformat_minor": 5
}
