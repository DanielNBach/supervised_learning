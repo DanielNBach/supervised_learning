{
 "cells": [
  {
   "cell_type": "code",
   "execution_count": 30,
   "id": "766e4d2f-b986-454e-852a-65d0a450fe68",
   "metadata": {},
   "outputs": [],
   "source": [
    "import matplotlib.pyplot as plt\n",
    "import numpy as np\n",
    "import pandas as pd\n",
    "# Make sure scikit-learn is on version 1.2.2\n",
    "# due to this error: https://github.com/scikit-learn/scikit-learn/issues/26768\n",
    "# Models\n",
    "from sklearn.tree import DecisionTreeClassifier\n",
    "from sklearn.neural_network import MLPClassifier\n",
    "from sklearn.neighbors import KNeighborsClassifier\n",
    "from sklearn.ensemble import AdaBoostClassifier\n",
    "from sklearn.svm import SVC\n",
    "from sklearn.preprocessing import LabelEncoder\n",
    "from sklearn.model_selection import train_test_split\n",
    "from sklearn.model_selection import GridSearchCV\n",
    "from sklearn.model_selection import KFold\n",
    "from sklearn import metrics\n",
    "from sklearn.utils import shuffle\n",
    "np.random.seed(8)\n",
    "encoder = LabelEncoder()"
   ]
  },
  {
   "cell_type": "code",
   "execution_count": 72,
   "id": "d04fc783",
   "metadata": {},
   "outputs": [],
   "source": [
    "# Functions adapted from https://www.kaggle.com/code/gargmanish/basic-machine-learning-with-cancer/notebook\n",
    "    # model: the learning model\n",
    "    # train_data: data used to train model\n",
    "    # test_data: data used to test model\n",
    "def classification_model(model, train_x, train_y, test_x, test_y):\n",
    "    model.fit(train_x, train_y)\n",
    "    predictions = model.predict(train_x)\n",
    "    accuracy = metrics.accuracy_score(predictions, train_y)\n",
    "    print(\"Accuracy on training data: %s\" % \"{0:.3%}\".format(accuracy))\n",
    "    kf = KFold(n_splits=5, shuffle=True)\n",
    "    kf.get_n_splits(train_x)\n",
    "    error = []\n",
    "    for i, (train, test) in enumerate(kf.split(train_x)):\n",
    "        fold_x = train_x.iloc[train, :]\n",
    "        fold_y = train_y.iloc[train]\n",
    "        model.fit(fold_x, fold_y)\n",
    "        \n",
    "        fold_test_x = train_x.iloc[test, :]\n",
    "        fold_test_y = train_y.iloc[test]\n",
    "        error.append(model.score(fold_test_x, fold_test_y))\n",
    "        print(f'Fold: {i}')\n",
    "        print(\" Cross-Validation Score : %s\" % \"{0:.3%}\".format(np.mean(error)))\n",
    "    \n",
    "    test_score = model.score(test_x, test_y)\n",
    "    print(\"Test Set Score: %s\" % \"{0:.3%}\".format(test_score))\n",
    "        \n",
    "def classification_model_gridsearchCV(model, param_grid, data_X, data_Y, test_x, test_y):\n",
    "    clf = GridSearchCV(model, param_grid, cv=10, scoring='accuracy')\n",
    "    clf.fit(data_X, data_Y)\n",
    "    print(\"The best parameters found:\")\n",
    "    print(clf.best_params_)\n",
    "    print(\"The best estimator:\")\n",
    "    print(clf.best_estimator_)\n",
    "    print(\"The best score on the training data is: {0:.3%}\".format(clf.best_score_))\n",
    "    best_model = clf.best_estimator_\n",
    "    print(\"Test set score with the best model: %s\" % \"{0:.3%}\".format(best_model.score(test_X, test_Y)))"
   ]
  },
  {
   "cell_type": "markdown",
   "id": "6400d7ab",
   "metadata": {},
   "source": [
    "# Dataset 1: Wisconsin Breast Cancer Diagnostic Dataset\n",
    "- Source: https://www.kaggle.com/datasets/uciml/breast-cancer-wisconsin-data?resource=download"
   ]
  },
  {
   "cell_type": "code",
   "execution_count": 66,
   "id": "1ceb928c",
   "metadata": {},
   "outputs": [],
   "source": [
    "# Reading data and preprocessing\n",
    "data = pd.read_csv('data/breast_cancer_data.csv')\n",
    "\n",
    "# 'id' column doesn't provide useful information\n",
    "# 'Unnamed: 32' column contains NaN values\n",
    "data.drop(columns=['id', 'Unnamed: 32'], inplace=True)\n",
    "\n",
    "# Split the data\n",
    "train, test = train_test_split(data, test_size=0.3)\n",
    "train_X = train.drop(columns='diagnosis')\n",
    "train_Y = encoder.fit_transform(train['diagnosis'])\n",
    "test_X = test.drop(columns='diagnosis')\n",
    "test_Y = encoder.fit_transform(test['diagnosis'])\n",
    "X = data.drop(columns='diagnosis')\n",
    "Y = data['diagnosis']\n",
    "# Encode Benign -> 0, Malignant -> 1\n",
    "encoded_Y = encoder.fit_transform(Y).reshape(-1, 1)"
   ]
  },
  {
   "cell_type": "markdown",
   "id": "11e25c96",
   "metadata": {},
   "source": [
    "### Dataset 1: Decision Tree Classifier"
   ]
  },
  {
   "cell_type": "code",
   "execution_count": 18,
   "id": "c3874356",
   "metadata": {
    "scrolled": false
   },
   "outputs": [
    {
     "name": "stdout",
     "output_type": "stream",
     "text": [
      "Accuracy on training data: 100.000%\n",
      "Fold: 0\n",
      " Cross-Validation Score : 96.250%\n",
      "Fold: 1\n",
      " Cross-Validation Score : 95.625%\n",
      "Fold: 2\n",
      " Cross-Validation Score : 95.000%\n",
      "Fold: 3\n",
      " Cross-Validation Score : 94.035%\n",
      "Fold: 4\n",
      " Cross-Validation Score : 92.443%\n",
      "Test Set Score: 92.982%\n"
     ]
    }
   ],
   "source": [
    "model = DecisionTreeClassifier()\n",
    "classification_model(model, train_X, train_Y, test_X, test_Y)"
   ]
  },
  {
   "cell_type": "code",
   "execution_count": 19,
   "id": "3f4f9cd5",
   "metadata": {},
   "outputs": [
    {
     "name": "stdout",
     "output_type": "stream",
     "text": [
      "The best parameters found:\n",
      "{'criterion': 'entropy', 'max_features': 'sqrt', 'min_samples_leaf': 8, 'min_samples_split': 2}\n",
      "The best estimator:\n",
      "DecisionTreeClassifier(criterion='entropy', max_features='sqrt',\n",
      "                       min_samples_leaf=8)\n",
      "The best score on the training data is: 95.724%\n",
      "Test set score with the best model: 90.643%\n"
     ]
    }
   ],
   "source": [
    "param_grid = {'max_features': ['sqrt', 'log2'],\n",
    "              'min_samples_split': [2,3,4,5,6,7,8,9,10], \n",
    "              'min_samples_leaf':[2,3,4,5,6,7,8,9,10],\n",
    "              'criterion': ['gini', 'entropy']}\n",
    "classification_model_gridsearchCV(model, param_grid, train_X, train_Y, test_X, test_Y)"
   ]
  },
  {
   "cell_type": "markdown",
   "id": "f0116c10",
   "metadata": {},
   "source": [
    "### Dataset 1: Neural Network"
   ]
  },
  {
   "cell_type": "code",
   "execution_count": 21,
   "id": "f6419182",
   "metadata": {},
   "outputs": [
    {
     "name": "stdout",
     "output_type": "stream",
     "text": [
      "Accuracy on training data: 95.477%\n",
      "Fold: 0\n",
      " Cross-Validation Score : 91.250%\n",
      "Fold: 1\n",
      " Cross-Validation Score : 93.750%\n",
      "Fold: 2\n",
      " Cross-Validation Score : 94.583%\n",
      "Fold: 3\n",
      " Cross-Validation Score : 93.406%\n",
      "Fold: 4\n",
      " Cross-Validation Score : 93.459%\n",
      "Test Set Score: 90.643%\n"
     ]
    }
   ],
   "source": [
    "model = MLPClassifier(max_iter=500)\n",
    "classification_model(model, train_X, train_Y, test_X, test_Y)"
   ]
  },
  {
   "cell_type": "code",
   "execution_count": 23,
   "id": "8a3012e6",
   "metadata": {},
   "outputs": [
    {
     "name": "stderr",
     "output_type": "stream",
     "text": [
      "/Users/danielbach/anaconda3/lib/python3.11/site-packages/sklearn/neural_network/_multilayer_perceptron.py:691: ConvergenceWarning: Stochastic Optimizer: Maximum iterations (500) reached and the optimization hasn't converged yet.\n",
      "  warnings.warn(\n",
      "/Users/danielbach/anaconda3/lib/python3.11/site-packages/sklearn/neural_network/_multilayer_perceptron.py:691: ConvergenceWarning: Stochastic Optimizer: Maximum iterations (500) reached and the optimization hasn't converged yet.\n",
      "  warnings.warn(\n",
      "/Users/danielbach/anaconda3/lib/python3.11/site-packages/sklearn/neural_network/_multilayer_perceptron.py:691: ConvergenceWarning: Stochastic Optimizer: Maximum iterations (500) reached and the optimization hasn't converged yet.\n",
      "  warnings.warn(\n",
      "/Users/danielbach/anaconda3/lib/python3.11/site-packages/sklearn/neural_network/_multilayer_perceptron.py:691: ConvergenceWarning: Stochastic Optimizer: Maximum iterations (500) reached and the optimization hasn't converged yet.\n",
      "  warnings.warn(\n"
     ]
    },
    {
     "name": "stdout",
     "output_type": "stream",
     "text": [
      "The best parameters found:\n",
      "{'alpha': 0.001, 'hidden_layer_sizes': (50,), 'learning_rate': 'constant'}\n",
      "The best estimator:\n",
      "MLPClassifier(alpha=0.001, hidden_layer_sizes=(50,), max_iter=500)\n",
      "The best score on the training data is: 95.224%\n",
      "Test set score with the best model: 92.398%\n"
     ]
    }
   ],
   "source": [
    "param_grid = {\n",
    "    'hidden_layer_sizes': [(50,), (100,), (50, 50), (100, 50)],\n",
    "    'alpha': [0.0001, 0.001, 0.01],\n",
    "    'learning_rate': ['constant', 'invscaling', 'adaptive'],\n",
    "}\n",
    "best_model = classification_model_gridsearchCV(model, param_grid, train_X, np.ravel(train_Y), test_X, np.ravel(test_Y))"
   ]
  },
  {
   "cell_type": "markdown",
   "id": "0cfafc28",
   "metadata": {},
   "source": [
    "### Dataset 1: k-nearest neighbors"
   ]
  },
  {
   "cell_type": "code",
   "execution_count": 22,
   "id": "f3faf241",
   "metadata": {},
   "outputs": [
    {
     "name": "stdout",
     "output_type": "stream",
     "text": [
      "Accuracy on training data: 95.226%\n",
      "Fold: 0\n",
      " Cross-Validation Score : 96.250%\n",
      "Fold: 1\n",
      " Cross-Validation Score : 95.625%\n",
      "Fold: 2\n",
      " Cross-Validation Score : 95.417%\n",
      "Fold: 3\n",
      " Cross-Validation Score : 94.980%\n",
      "Fold: 4\n",
      " Cross-Validation Score : 93.959%\n",
      "Test Set Score: 90.643%\n"
     ]
    }
   ],
   "source": [
    "model = KNeighborsClassifier()\n",
    "classification_model(model, train_X, train_Y, test_X, test_Y)"
   ]
  },
  {
   "cell_type": "code",
   "execution_count": 26,
   "id": "61f690c5",
   "metadata": {
    "scrolled": true
   },
   "outputs": [
    {
     "name": "stdout",
     "output_type": "stream",
     "text": [
      "The best parameters found:\n",
      "{'n_neighbors': 6, 'p': 1, 'weights': 'distance'}\n",
      "The best estimator:\n",
      "KNeighborsClassifier(n_neighbors=6, p=1, weights='distance')\n",
      "The best score on the training data is: 95.474%\n",
      "Test set score with the best model: 91.813%\n"
     ]
    }
   ],
   "source": [
    "param_grid = {\n",
    "    'n_neighbors': [i for i in range(1,21)],\n",
    "    'weights': ['uniform', 'distance'],\n",
    "    'p': [1, 2],\n",
    "}\n",
    "classification_model_gridsearchCV(model, param_grid, train_X, train_Y, test_X, test_Y)"
   ]
  },
  {
   "cell_type": "markdown",
   "id": "0fc126b9",
   "metadata": {},
   "source": [
    "### Dataset 1: Boosting\n"
   ]
  },
  {
   "cell_type": "code",
   "execution_count": 28,
   "id": "2b4e0cbc",
   "metadata": {
    "scrolled": true
   },
   "outputs": [
    {
     "name": "stdout",
     "output_type": "stream",
     "text": [
      "Accuracy on training data: 100.000%\n",
      "Fold: 0\n",
      " Cross-Validation Score : 96.250%\n",
      "Fold: 1\n",
      " Cross-Validation Score : 95.625%\n",
      "Fold: 2\n",
      " Cross-Validation Score : 95.417%\n",
      "Fold: 3\n",
      " Cross-Validation Score : 95.613%\n",
      "Fold: 4\n",
      " Cross-Validation Score : 95.731%\n",
      "Test Set Score: 95.322%\n"
     ]
    }
   ],
   "source": [
    "model = AdaBoostClassifier()\n",
    "classification_model(model, train_X, train_Y, test_X, test_Y)"
   ]
  },
  {
   "cell_type": "code",
   "execution_count": 29,
   "id": "a6456043",
   "metadata": {},
   "outputs": [
    {
     "name": "stdout",
     "output_type": "stream",
     "text": [
      "The best parameters found:\n",
      "{'learning_rate': 1.0, 'n_estimators': 500}\n",
      "The best estimator:\n",
      "AdaBoostClassifier(n_estimators=500)\n",
      "The best score on the training data is: 96.487%\n",
      "Test set score with the best model: 98.830%\n"
     ]
    }
   ],
   "source": [
    "param_grid = {\n",
    "    'n_estimators': [10, 50, 250, 500, 1000],\n",
    "    'learning_rate': [0.01, 0.1, 0.3, 0.5, 0.7, 1.0],\n",
    "}\n",
    "classification_model_gridsearchCV(model, param_grid, train_X, train_Y, test_X, test_Y)"
   ]
  },
  {
   "cell_type": "markdown",
   "id": "dd67e46b",
   "metadata": {},
   "source": [
    "### Dataset 1: SVM"
   ]
  },
  {
   "cell_type": "code",
   "execution_count": 32,
   "id": "db53400e",
   "metadata": {},
   "outputs": [
    {
     "name": "stdout",
     "output_type": "stream",
     "text": [
      "Accuracy on training data: 92.965%\n",
      "Fold: 0\n",
      " Cross-Validation Score : 96.250%\n",
      "Fold: 1\n",
      " Cross-Validation Score : 94.375%\n",
      "Fold: 2\n",
      " Cross-Validation Score : 92.083%\n",
      "Fold: 3\n",
      " Cross-Validation Score : 90.581%\n",
      "Fold: 4\n",
      " Cross-Validation Score : 91.453%\n",
      "Test Set Score: 90.643%\n"
     ]
    }
   ],
   "source": [
    "model = SVC()\n",
    "classification_model(model, train_X, train_Y, test_X, test_Y)"
   ]
  },
  {
   "cell_type": "code",
   "execution_count": 45,
   "id": "c8f218b2",
   "metadata": {},
   "outputs": [
    {
     "name": "stdout",
     "output_type": "stream",
     "text": [
      "The best parameters found:\n",
      "{'C': 1000.0, 'gamma': 'scale'}\n",
      "The best estimator:\n",
      "SVC(C=1000.0)\n",
      "The best score on the training data is: 94.955%\n",
      "Test set score with the best model: 93.567%\n"
     ]
    }
   ],
   "source": [
    "param_grid = {\n",
    "    'C': [0.001, 0.1, 1.0, 10.0, 100.0, 1000.0],\n",
    "    'gamma': ['scale', 'auto'],\n",
    "}\n",
    "classification_model_gridsearchCV(model, param_grid, train_X, train_Y, test_X, test_Y)"
   ]
  },
  {
   "cell_type": "markdown",
   "id": "2dc0eb88",
   "metadata": {},
   "source": [
    "# Dataset 2: Banknote Authentication"
   ]
  },
  {
   "cell_type": "code",
   "execution_count": 89,
   "id": "8aebf16c",
   "metadata": {},
   "outputs": [
    {
     "data": {
      "text/html": [
       "<div>\n",
       "<style scoped>\n",
       "    .dataframe tbody tr th:only-of-type {\n",
       "        vertical-align: middle;\n",
       "    }\n",
       "\n",
       "    .dataframe tbody tr th {\n",
       "        vertical-align: top;\n",
       "    }\n",
       "\n",
       "    .dataframe thead th {\n",
       "        text-align: right;\n",
       "    }\n",
       "</style>\n",
       "<table border=\"1\" class=\"dataframe\">\n",
       "  <thead>\n",
       "    <tr style=\"text-align: right;\">\n",
       "      <th></th>\n",
       "      <th>variance</th>\n",
       "      <th>skewness</th>\n",
       "      <th>curtosis</th>\n",
       "      <th>entropy</th>\n",
       "    </tr>\n",
       "  </thead>\n",
       "  <tbody>\n",
       "    <tr>\n",
       "      <th>1</th>\n",
       "      <td>4.5459</td>\n",
       "      <td>8.1674</td>\n",
       "      <td>-2.45860</td>\n",
       "      <td>-1.46210</td>\n",
       "    </tr>\n",
       "    <tr>\n",
       "      <th>1189</th>\n",
       "      <td>-2.4941</td>\n",
       "      <td>3.5447</td>\n",
       "      <td>-1.37210</td>\n",
       "      <td>-2.84830</td>\n",
       "    </tr>\n",
       "    <tr>\n",
       "      <th>335</th>\n",
       "      <td>3.4667</td>\n",
       "      <td>-4.0724</td>\n",
       "      <td>4.28820</td>\n",
       "      <td>1.54180</td>\n",
       "    </tr>\n",
       "    <tr>\n",
       "      <th>331</th>\n",
       "      <td>2.0421</td>\n",
       "      <td>1.2436</td>\n",
       "      <td>4.21710</td>\n",
       "      <td>0.90429</td>\n",
       "    </tr>\n",
       "    <tr>\n",
       "      <th>1220</th>\n",
       "      <td>-2.7769</td>\n",
       "      <td>-5.6967</td>\n",
       "      <td>5.91790</td>\n",
       "      <td>0.37671</td>\n",
       "    </tr>\n",
       "    <tr>\n",
       "      <th>...</th>\n",
       "      <td>...</td>\n",
       "      <td>...</td>\n",
       "      <td>...</td>\n",
       "      <td>...</td>\n",
       "    </tr>\n",
       "    <tr>\n",
       "      <th>1024</th>\n",
       "      <td>-3.0061</td>\n",
       "      <td>-12.2377</td>\n",
       "      <td>11.95520</td>\n",
       "      <td>-2.16030</td>\n",
       "    </tr>\n",
       "    <tr>\n",
       "      <th>753</th>\n",
       "      <td>3.1541</td>\n",
       "      <td>-5.1711</td>\n",
       "      <td>6.59910</td>\n",
       "      <td>0.57455</td>\n",
       "    </tr>\n",
       "    <tr>\n",
       "      <th>404</th>\n",
       "      <td>0.3798</td>\n",
       "      <td>0.7098</td>\n",
       "      <td>0.75720</td>\n",
       "      <td>-0.44440</td>\n",
       "    </tr>\n",
       "    <tr>\n",
       "      <th>873</th>\n",
       "      <td>-2.2173</td>\n",
       "      <td>1.4671</td>\n",
       "      <td>-0.72689</td>\n",
       "      <td>-1.17240</td>\n",
       "    </tr>\n",
       "    <tr>\n",
       "      <th>762</th>\n",
       "      <td>-1.3971</td>\n",
       "      <td>3.3191</td>\n",
       "      <td>-1.39270</td>\n",
       "      <td>-1.99480</td>\n",
       "    </tr>\n",
       "  </tbody>\n",
       "</table>\n",
       "<p>960 rows × 4 columns</p>\n",
       "</div>"
      ],
      "text/plain": [
       "      variance  skewness  curtosis  entropy\n",
       "1       4.5459    8.1674  -2.45860 -1.46210\n",
       "1189   -2.4941    3.5447  -1.37210 -2.84830\n",
       "335     3.4667   -4.0724   4.28820  1.54180\n",
       "331     2.0421    1.2436   4.21710  0.90429\n",
       "1220   -2.7769   -5.6967   5.91790  0.37671\n",
       "...        ...       ...       ...      ...\n",
       "1024   -3.0061  -12.2377  11.95520 -2.16030\n",
       "753     3.1541   -5.1711   6.59910  0.57455\n",
       "404     0.3798    0.7098   0.75720 -0.44440\n",
       "873    -2.2173    1.4671  -0.72689 -1.17240\n",
       "762    -1.3971    3.3191  -1.39270 -1.99480\n",
       "\n",
       "[960 rows x 4 columns]"
      ]
     },
     "execution_count": 89,
     "metadata": {},
     "output_type": "execute_result"
    }
   ],
   "source": [
    "data = pd.read_csv('data/banknote_data.csv')\n",
    "train, test = train_test_split(data, test_size=0.3)\n",
    "train_X = train.drop(columns='class')\n",
    "train_Y = train['class']\n",
    "test_X = test.drop(columns='class')\n",
    "test_Y = test['class']"
   ]
  },
  {
   "cell_type": "markdown",
   "id": "e69b3178",
   "metadata": {},
   "source": [
    "### Dataset 2: DecisionTreeClassifier"
   ]
  },
  {
   "cell_type": "code",
   "execution_count": 74,
   "id": "490ba537",
   "metadata": {},
   "outputs": [
    {
     "name": "stdout",
     "output_type": "stream",
     "text": [
      "Accuracy on training data: 100.000%\n",
      "Fold: 0\n",
      " Cross-Validation Score : 97.917%\n",
      "Fold: 1\n",
      " Cross-Validation Score : 98.177%\n",
      "Fold: 2\n",
      " Cross-Validation Score : 97.917%\n",
      "Fold: 3\n",
      " Cross-Validation Score : 97.656%\n",
      "Fold: 4\n",
      " Cross-Validation Score : 97.917%\n",
      "Test Set Score: 99.515%\n"
     ]
    }
   ],
   "source": [
    "model = DecisionTreeClassifier()\n",
    "classification_model(model, train_X, train_Y, test_X, test_Y)"
   ]
  },
  {
   "cell_type": "code",
   "execution_count": 75,
   "id": "c39c18ed",
   "metadata": {},
   "outputs": [
    {
     "name": "stdout",
     "output_type": "stream",
     "text": [
      "The best parameters found:\n",
      "{'criterion': 'gini', 'max_features': 'sqrt', 'min_samples_leaf': 3, 'min_samples_split': 3}\n",
      "The best estimator:\n",
      "DecisionTreeClassifier(max_features='sqrt', min_samples_leaf=3,\n",
      "                       min_samples_split=3)\n",
      "The best score on the training data is: 98.438%\n",
      "Test set score with the best model: 98.544%\n"
     ]
    }
   ],
   "source": [
    "param_grid = {'max_features': ['sqrt', 'log2'],\n",
    "              'min_samples_split': [2,3,4,5,6,7,8,9,10], \n",
    "              'min_samples_leaf':[2,3,4,5,6,7,8,9,10],\n",
    "              'criterion': ['gini', 'entropy']}\n",
    "classification_model_gridsearchCV(model, param_grid, train_X, train_Y, test_X, test_Y)"
   ]
  },
  {
   "cell_type": "markdown",
   "id": "a6915321",
   "metadata": {},
   "source": [
    "### Dataset 2: Neural Network"
   ]
  },
  {
   "cell_type": "code",
   "execution_count": 81,
   "id": "33cb7de5",
   "metadata": {},
   "outputs": [
    {
     "name": "stdout",
     "output_type": "stream",
     "text": [
      "Accuracy on training data: 100.000%\n",
      "Fold: 0\n",
      " Cross-Validation Score : 98.958%\n",
      "Fold: 1\n",
      " Cross-Validation Score : 99.479%\n",
      "Fold: 2\n",
      " Cross-Validation Score : 99.653%\n",
      "Fold: 3\n",
      " Cross-Validation Score : 99.740%\n",
      "Fold: 4\n",
      " Cross-Validation Score : 99.792%\n",
      "Test Set Score: 100.000%\n"
     ]
    }
   ],
   "source": [
    "model = MLPClassifier(max_iter=300)\n",
    "classification_model(model, train_X, train_Y, test_X, test_Y)"
   ]
  },
  {
   "cell_type": "code",
   "execution_count": 82,
   "id": "10c31ee4",
   "metadata": {},
   "outputs": [
    {
     "name": "stdout",
     "output_type": "stream",
     "text": [
      "The best parameters found:\n",
      "{'alpha': 0.0001, 'hidden_layer_sizes': (50,), 'learning_rate': 'constant'}\n",
      "The best estimator:\n",
      "MLPClassifier(hidden_layer_sizes=(50,), max_iter=300)\n",
      "The best score on the training data is: 100.000%\n",
      "Test set score with the best model: 100.000%\n"
     ]
    }
   ],
   "source": [
    "param_grid = {\n",
    "    'hidden_layer_sizes': [(50,), (100,), (50, 50), (100, 50)],\n",
    "    'alpha': [0.0001, 0.001, 0.01],\n",
    "    'learning_rate': ['constant', 'invscaling', 'adaptive'],\n",
    "}\n",
    "best_model = classification_model_gridsearchCV(model, param_grid, train_X, train_Y, test_X, test_Y)"
   ]
  },
  {
   "cell_type": "markdown",
   "id": "e53feaea",
   "metadata": {},
   "source": [
    "### Dataset 2: k-nearest neighbors"
   ]
  },
  {
   "cell_type": "code",
   "execution_count": 83,
   "id": "c3cd85f1",
   "metadata": {},
   "outputs": [
    {
     "name": "stdout",
     "output_type": "stream",
     "text": [
      "Accuracy on training data: 100.000%\n",
      "Fold: 0\n",
      " Cross-Validation Score : 100.000%\n",
      "Fold: 1\n",
      " Cross-Validation Score : 99.740%\n",
      "Fold: 2\n",
      " Cross-Validation Score : 99.826%\n",
      "Fold: 3\n",
      " Cross-Validation Score : 99.870%\n",
      "Fold: 4\n",
      " Cross-Validation Score : 99.896%\n",
      "Test Set Score: 100.000%\n"
     ]
    }
   ],
   "source": [
    "model = KNeighborsClassifier()\n",
    "classification_model(model, train_X, train_Y, test_X, test_Y)"
   ]
  },
  {
   "cell_type": "code",
   "execution_count": 86,
   "id": "e3221d65",
   "metadata": {},
   "outputs": [
    {
     "name": "stdout",
     "output_type": "stream",
     "text": [
      "The best parameters found:\n",
      "{'n_neighbors': 4, 'p': 2, 'weights': 'uniform'}\n",
      "The best estimator:\n",
      "KNeighborsClassifier(n_neighbors=4)\n",
      "The best score on the training data is: 100.000%\n",
      "Test set score with the best model: 100.000%\n"
     ]
    }
   ],
   "source": [
    "param_grid = {\n",
    "    'n_neighbors': [i for i in range(1, 21)],\n",
    "    'weights': ['uniform', 'distance'],\n",
    "    'p': [1, 2],\n",
    "}\n",
    "classification_model_gridsearchCV(model, param_grid, train_X, train_Y, test_X, test_Y)"
   ]
  },
  {
   "cell_type": "markdown",
   "id": "ddafc7d5",
   "metadata": {},
   "source": [
    "### Dataset 2: Boosting"
   ]
  },
  {
   "cell_type": "code",
   "execution_count": 87,
   "id": "b6c8244b",
   "metadata": {
    "scrolled": true
   },
   "outputs": [
    {
     "name": "stdout",
     "output_type": "stream",
     "text": [
      "Accuracy on training data: 100.000%\n",
      "Fold: 0\n",
      " Cross-Validation Score : 98.958%\n",
      "Fold: 1\n",
      " Cross-Validation Score : 99.479%\n",
      "Fold: 2\n",
      " Cross-Validation Score : 99.479%\n",
      "Fold: 3\n",
      " Cross-Validation Score : 99.479%\n",
      "Fold: 4\n",
      " Cross-Validation Score : 99.375%\n",
      "Test Set Score: 100.000%\n"
     ]
    }
   ],
   "source": [
    "model = AdaBoostClassifier()\n",
    "classification_model(model, train_X, train_Y, test_X, test_Y)"
   ]
  },
  {
   "cell_type": "code",
   "execution_count": null,
   "id": "b76a6a41",
   "metadata": {},
   "outputs": [],
   "source": [
    "param_grid = {\n",
    "    'n_estimators': [10, 50, 250, 500, 1000],\n",
    "    'learning_rate': [0.01, 0.1, 0.3, 0.5, 0.7, 1.0],\n",
    "}\n",
    "classification_model_gridsearchCV(model, param_grid, train_X, train_Y, test_X, test_Y)"
   ]
  },
  {
   "cell_type": "markdown",
   "id": "f559a854",
   "metadata": {},
   "source": [
    "### Dataset 2: SVM"
   ]
  },
  {
   "cell_type": "code",
   "execution_count": null,
   "id": "6ef20f59",
   "metadata": {},
   "outputs": [],
   "source": [
    "model = SVC()\n",
    "classification_model(model, train_X, train_Y, test_X, test_Y)"
   ]
  },
  {
   "cell_type": "code",
   "execution_count": null,
   "id": "0a5818bf",
   "metadata": {},
   "outputs": [],
   "source": [
    "param_grid = {\n",
    "    'C': [0.001, 0.1, 1.0, 10.0, 100.0, 1000.0],\n",
    "    'gamma': ['scale', 'auto'],\n",
    "}\n",
    "classification_model_gridsearchCV(model, param_grid, train_X, train_Y, test_X, test_Y)"
   ]
  }
 ],
 "metadata": {
  "kernelspec": {
   "display_name": "Python 3 (ipykernel)",
   "language": "python",
   "name": "python3"
  },
  "language_info": {
   "codemirror_mode": {
    "name": "ipython",
    "version": 3
   },
   "file_extension": ".py",
   "mimetype": "text/x-python",
   "name": "python",
   "nbconvert_exporter": "python",
   "pygments_lexer": "ipython3",
   "version": "3.11.4"
  }
 },
 "nbformat": 4,
 "nbformat_minor": 5
}
